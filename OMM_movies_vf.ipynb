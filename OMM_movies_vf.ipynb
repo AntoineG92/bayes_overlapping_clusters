{
 "cells": [
  {
   "cell_type": "markdown",
   "metadata": {},
   "source": [
    "# Overlapping Mixture Model with movie data"
   ]
  },
  {
   "cell_type": "code",
   "execution_count": 1,
   "metadata": {
    "collapsed": true
   },
   "outputs": [],
   "source": [
    "%load_ext autoreload\n",
    "%autoreload 2\n",
    "import utils, omm\n",
    "import random\n",
    "import pandas as pd\n",
    "import numpy as np"
   ]
  },
  {
   "cell_type": "code",
   "execution_count": 4,
   "metadata": {},
   "outputs": [],
   "source": [
    "Z = pd.read_csv('clusters_matrix.csv', sep=',', index_col=0)\n",
    "X = pd.read_csv('binary_data_matrix.csv', sep=',', index_col=0)\n",
    "#X.columns = X.columns.astype(int)\n",
    "#Z.columns = Z.columns.astype(int)\n",
    "X = X.as_matrix()\n",
    "Z = Z.as_matrix()\n",
    "\n",
    "#Generate movies data\n",
    "nbr_clear = 1\n",
    "X = X[0:200]\n",
    "\n",
    "while nbr_clear > 0:\n",
    "    X, nbr_clear = utils.clear_movies(X)\n",
    "    X, nbr_clear = utils.clear_users(X)\n",
    "\n",
    "X = X[0:150] \n",
    "Z = Z[0:150]\n",
    "\n",
    "\n",
    "list_random_rows = random.sample(range(150), 150)\n",
    "X = utils.get_mat_random(X, list_random_rows)\n",
    "Z = utils.get_mat_random(Z, list_random_rows)\n",
    "U=np.dot(Z,Z.T)"
   ]
  },
  {
   "cell_type": "code",
   "execution_count": 5,
   "metadata": {
    "collapsed": true
   },
   "outputs": [],
   "source": [
    "#Algorithm initialization\n",
    "K=Z.shape[1]\n",
    "N=Z.shape[0]\n",
    "n_train=50\n",
    "D=X.shape[1]\n",
    "N_iter=300\n",
    "alpha_prior = 10\n",
    "burning_period=100\n",
    "omega = 1\n",
    "\n",
    "theta= utils.random_theta(N,K,D,alpha_prior)"
   ]
  },
  {
   "cell_type": "code",
   "execution_count": null,
   "metadata": {
    "collapsed": true
   },
   "outputs": [],
   "source": [
    "%%capture\n",
    "#We try a first time the OMM algorithm to get a sense of how good the model is\n",
    "IOMM = omm.IOMM(N = N, \n",
    "                 K = K, \n",
    "                 D = D, \n",
    "                 N_iter = N_iter, \n",
    "                 Z = Z, \n",
    "                 X = X, \n",
    "                 theta = theta, \n",
    "                 alpha_prior = alpha_prior, \n",
    "                 omega = omega,\n",
    "                 copy_rows = n_train,\n",
    "                 burning_period=burning_period)\n",
    "\n",
    "Z_hat,theta_resampled,Z_hat_mean,U_hat = IOMM.learning(apply_log=False,random_walk=False)"
   ]
  },
  {
   "cell_type": "code",
   "execution_count": 13,
   "metadata": {},
   "outputs": [
    {
     "data": {
      "image/png": "[encoded data removed]",
      "text/plain": [
       "<matplotlib.figure.Figure at 0x2520203f940>"
      ]
     },
     "metadata": {},
     "output_type": "display_data"
    }
   ],
   "source": [
    "#We plot U and the U_hat we get\n",
    "from matplotlib import pyplot as plt\n",
    "fig = plt.figure(figsize=(18, 16), dpi= 80, facecolor='w', edgecolor='k')\n",
    "ax1 = fig.add_subplot(121)\n",
    "ax2 = fig.add_subplot(122)\n",
    "ax1.title.set_text('U')\n",
    "ax2.title.set_text('$\\hat{U}$')\n",
    "\n",
    "ax1.spy(U)\n",
    "ax2.spy(U_hat)\n",
    "\n",
    "plt.show()"
   ]
  },
  {
   "cell_type": "code",
   "execution_count": 14,
   "metadata": {},
   "outputs": [
    {
     "name": "stdout",
     "output_type": "stream",
     "text": [
      "% of pairs having same number of clusters: 0.6985777777777777\n",
      "% of pairs having at most 1 cluster difference: 0.8743111111111111\n",
      "% of pairs having at most 2 clusters difference: 0.9085333333333333\n",
      "% of pairs having at most 3 clusters difference: 0.9196444444444445\n"
     ]
    }
   ],
   "source": [
    "# summmary statistics\n",
    "U_diff=abs(U-U_hat)\n",
    "print(\"% of pairs having same number of clusters:\",len(U_diff[U_diff<1])/(N*N))\n",
    "print(\"% of pairs having at most 1 cluster difference:\",len(U_diff[U_diff<2])/(N*N))\n",
    "print(\"% of pairs having at most 2 clusters difference:\",len(U_diff[U_diff<3])/(N*N))\n",
    "print(\"% of pairs having at most 3 clusters difference:\",len(U_diff[U_diff<4])/(N*N))"
   ]
  },
  {
   "cell_type": "code",
   "execution_count": 24,
   "metadata": {
    "collapsed": true
   },
   "outputs": [],
   "source": [
    "%%capture\n",
    "#This time we run several times the algorithm to study variance of its predictions\n",
    "cols = [\"zero\", \"one\", \"two\", \"three\"]\n",
    "clusters_differences = {\n",
    "    'U_hat_list': [],\n",
    "}\n",
    "for i in range(len(cols)):\n",
    "    clusters_differences[cols[i]] = []\n",
    "\n",
    "for i in range(10):\n",
    "    IOMM = omm.IOMM(N = N, \n",
    "                     K = K, \n",
    "                     D = D, \n",
    "                     N_iter = N_iter, \n",
    "                     Z = Z, \n",
    "                     X = X, \n",
    "                     theta = theta, \n",
    "                     alpha_prior = alpha_prior, \n",
    "                     omega = omega,\n",
    "                     copy_rows = n_train,\n",
    "                     burning_period=burning_period)\n",
    "    Z_hat,theta_resampled,Z_hat_mean,U_hat = IOMM.learning(apply_log=False,random_walk=False)\n",
    "    U_hat_new = np.copy(U_hat)\n",
    "    U_diff=abs(U-U_hat_new)\n",
    "    clusters_differences['U_hat_list'].append(U_hat_new)\n",
    "    for j in range(len(cols)):\n",
    "        clusters_differences[cols[j]].append(len(U_diff[U_diff<j+1])/(N*N))"
   ]
  },
  {
   "cell_type": "code",
   "execution_count": 25,
   "metadata": {},
   "outputs": [
    {
     "data": {
      "text/plain": [
       "<matplotlib.axes._subplots.AxesSubplot at 0x25202696eb8>"
      ]
     },
     "execution_count": 25,
     "metadata": {},
     "output_type": "execute_result"
    },
    {
     "data": {
      "image/png": "[encoded data removed]",
      "text/plain": [
       "<matplotlib.figure.Figure at 0x25202696b00>"
      ]
     },
     "metadata": {},
     "output_type": "display_data"
    }
   ],
   "source": [
    "clusters_differences_df = pd.DataFrame.from_dict(clusters_differences)[cols]\n",
    "#clusters_differences_df.head()\n",
    "clusters_differences_df.boxplot()"
   ]
  }
 ],
 "metadata": {
  "kernelspec": {
   "display_name": "Python 3",
   "language": "python",
   "name": "python3"
  },
  "language_info": {
   "codemirror_mode": {
    "name": "ipython",
    "version": 3
   },
   "file_extension": ".py",
   "mimetype": "text/x-python",
   "name": "python",
   "nbconvert_exporter": "python",
   "pygments_lexer": "ipython3",
   "version": "3.6.3"
  }
 },
 "nbformat": 4,
 "nbformat_minor": 2
}
