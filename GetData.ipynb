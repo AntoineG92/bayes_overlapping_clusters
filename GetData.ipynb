{
 "cells": [
  {
   "cell_type": "code",
   "execution_count": 10,
   "metadata": {
    "collapsed": true
   },
   "outputs": [],
   "source": [
    "import pandas as pd\n",
    "import json as js\n",
    "import matplotlib.pyplot as plt\n",
    "import numpy as np\n",
    "%matplotlib inline"
   ]
  },
  {
   "cell_type": "markdown",
   "metadata": {},
   "source": [
    "#### Retrieve Data"
   ]
  },
  {
   "cell_type": "code",
   "execution_count": 11,
   "metadata": {},
   "outputs": [
    {
     "data": {
      "text/html": [
       "<div>\n",
       "<style>\n",
       "    .dataframe thead tr:only-child th {\n",
       "        text-align: right;\n",
       "    }\n",
       "\n",
       "    .dataframe thead th {\n",
       "        text-align: left;\n",
       "    }\n",
       "\n",
       "    .dataframe tbody tr th {\n",
       "        vertical-align: top;\n",
       "    }\n",
       "</style>\n",
       "<table border=\"1\" class=\"dataframe\">\n",
       "  <thead>\n",
       "    <tr style=\"text-align: right;\">\n",
       "      <th></th>\n",
       "      <th>movieId</th>\n",
       "      <th>title</th>\n",
       "      <th>genres</th>\n",
       "    </tr>\n",
       "  </thead>\n",
       "  <tbody>\n",
       "    <tr>\n",
       "      <th>0</th>\n",
       "      <td>1</td>\n",
       "      <td>Toy Story (1995)</td>\n",
       "      <td>Adventure|Animation|Children|Comedy|Fantasy</td>\n",
       "    </tr>\n",
       "    <tr>\n",
       "      <th>1</th>\n",
       "      <td>2</td>\n",
       "      <td>Jumanji (1995)</td>\n",
       "      <td>Adventure|Children|Fantasy</td>\n",
       "    </tr>\n",
       "    <tr>\n",
       "      <th>2</th>\n",
       "      <td>3</td>\n",
       "      <td>Grumpier Old Men (1995)</td>\n",
       "      <td>Comedy|Romance</td>\n",
       "    </tr>\n",
       "    <tr>\n",
       "      <th>3</th>\n",
       "      <td>4</td>\n",
       "      <td>Waiting to Exhale (1995)</td>\n",
       "      <td>Comedy|Drama|Romance</td>\n",
       "    </tr>\n",
       "    <tr>\n",
       "      <th>4</th>\n",
       "      <td>5</td>\n",
       "      <td>Father of the Bride Part II (1995)</td>\n",
       "      <td>Comedy</td>\n",
       "    </tr>\n",
       "  </tbody>\n",
       "</table>\n",
       "</div>"
      ],
      "text/plain": [
       "   movieId                               title  \\\n",
       "0        1                    Toy Story (1995)   \n",
       "1        2                      Jumanji (1995)   \n",
       "2        3             Grumpier Old Men (1995)   \n",
       "3        4            Waiting to Exhale (1995)   \n",
       "4        5  Father of the Bride Part II (1995)   \n",
       "\n",
       "                                        genres  \n",
       "0  Adventure|Animation|Children|Comedy|Fantasy  \n",
       "1                   Adventure|Children|Fantasy  \n",
       "2                               Comedy|Romance  \n",
       "3                         Comedy|Drama|Romance  \n",
       "4                                       Comedy  "
      ]
     },
     "execution_count": 11,
     "metadata": {},
     "output_type": "execute_result"
    }
   ],
   "source": [
    "mnames = ['movieId', 'title', 'genres']\n",
    "#raw_data_movies = pd.read_csv('movies.csv', sep=',')\n",
    "raw_data_movies = pd.read_table('movies.dat', sep='::', header=None, names=mnames, engine='python')\n",
    "raw_data_movies.head()"
   ]
  },
  {
   "cell_type": "code",
   "execution_count": 12,
   "metadata": {},
   "outputs": [
    {
     "data": {
      "text/html": [
       "<div>\n",
       "<style>\n",
       "    .dataframe thead tr:only-child th {\n",
       "        text-align: right;\n",
       "    }\n",
       "\n",
       "    .dataframe thead th {\n",
       "        text-align: left;\n",
       "    }\n",
       "\n",
       "    .dataframe tbody tr th {\n",
       "        vertical-align: top;\n",
       "    }\n",
       "</style>\n",
       "<table border=\"1\" class=\"dataframe\">\n",
       "  <thead>\n",
       "    <tr style=\"text-align: right;\">\n",
       "      <th></th>\n",
       "      <th>userId</th>\n",
       "      <th>movieId</th>\n",
       "      <th>rating</th>\n",
       "      <th>timestamp</th>\n",
       "    </tr>\n",
       "  </thead>\n",
       "  <tbody>\n",
       "    <tr>\n",
       "      <th>0</th>\n",
       "      <td>1</td>\n",
       "      <td>31</td>\n",
       "      <td>2.5</td>\n",
       "      <td>1260759144</td>\n",
       "    </tr>\n",
       "    <tr>\n",
       "      <th>1</th>\n",
       "      <td>1</td>\n",
       "      <td>1029</td>\n",
       "      <td>3.0</td>\n",
       "      <td>1260759179</td>\n",
       "    </tr>\n",
       "    <tr>\n",
       "      <th>2</th>\n",
       "      <td>1</td>\n",
       "      <td>1061</td>\n",
       "      <td>3.0</td>\n",
       "      <td>1260759182</td>\n",
       "    </tr>\n",
       "    <tr>\n",
       "      <th>3</th>\n",
       "      <td>1</td>\n",
       "      <td>1129</td>\n",
       "      <td>2.0</td>\n",
       "      <td>1260759185</td>\n",
       "    </tr>\n",
       "    <tr>\n",
       "      <th>4</th>\n",
       "      <td>1</td>\n",
       "      <td>1172</td>\n",
       "      <td>4.0</td>\n",
       "      <td>1260759205</td>\n",
       "    </tr>\n",
       "  </tbody>\n",
       "</table>\n",
       "</div>"
      ],
      "text/plain": [
       "   userId  movieId  rating   timestamp\n",
       "0       1       31     2.5  1260759144\n",
       "1       1     1029     3.0  1260759179\n",
       "2       1     1061     3.0  1260759182\n",
       "3       1     1129     2.0  1260759185\n",
       "4       1     1172     4.0  1260759205"
      ]
     },
     "execution_count": 12,
     "metadata": {},
     "output_type": "execute_result"
    }
   ],
   "source": [
    "#raw_data_ratings = pd.read_csv('ratings.csv', sep=',')\n",
    "mnames = ['userId', 'movieId', 'rating', 'timestamp']\n",
    "raw_data_ratings = pd.read_table('ratings.dat', sep='::', header=None, names=mnames, engine='python')\n",
    "raw_data_ratings.head()"
   ]
  },
  {
   "cell_type": "markdown",
   "metadata": {},
   "source": [
    "#### Clear Data\n",
    "\n",
    "1/ Normalize data : each movie sums its ratings at 1"
   ]
  },
  {
   "cell_type": "code",
   "execution_count": 13,
   "metadata": {
    "collapsed": true
   },
   "outputs": [],
   "source": [
    "all_movies_id = raw_data_ratings.movieId.unique()\n",
    "\n",
    "for movie_id in all_movies_id:\n",
    "    total_rating = sum(raw_data_ratings[raw_data_ratings.movieId==movie_id].rating)\n",
    "    raw_data_ratings.loc[raw_data_ratings.movieId==movie_id,'rating'] = raw_data_ratings.loc[raw_data_ratings.movieId==movie_id,'rating']/total_rating"
   ]
  },
  {
   "cell_type": "markdown",
   "metadata": {},
   "source": [
    "2/ Binarize data : ratings > mean(others movies for one user) => 1 \n",
    "\n",
    "else => 0"
   ]
  },
  {
   "cell_type": "code",
   "execution_count": 14,
   "metadata": {
    "collapsed": true
   },
   "outputs": [],
   "source": [
    "all_users_id = raw_data_ratings.userId.unique()\n",
    "\n",
    "for user_id in all_users_id:\n",
    "    temp_ratings = raw_data_ratings.loc[raw_data_ratings.userId == user_id].rating.copy()\n",
    "    i = temp_ratings.index[0]\n",
    "    mean_temp_ratings = temp_ratings.mean()\n",
    "    \n",
    "    for curt_rate in temp_ratings:\n",
    "        if curt_rate>mean_temp_ratings:\n",
    "            temp_ratings[i] = 1\n",
    "        else:\n",
    "            temp_ratings.loc[i,] = 0\n",
    "        i+= 1\n",
    "\n",
    "    raw_data_ratings.loc[raw_data_ratings.userId==user_id,'rating'] = temp_ratings"
   ]
  },
  {
   "cell_type": "markdown",
   "metadata": {},
   "source": [
    "3/ Remove users with less than 20 movies rated 1\n",
    "\n",
    "Remove movies with less than 10 rates to 1"
   ]
  },
  {
   "cell_type": "code",
   "execution_count": 15,
   "metadata": {
    "collapsed": true
   },
   "outputs": [],
   "source": [
    "def clear_users(data):\n",
    "    all_users_id = data.userId.unique()\n",
    "    nbr_clear = 0\n",
    "    for user_id in all_users_id:\n",
    "        temp_ratings = data.loc[data.userId == user_id].rating.copy()\n",
    "        nbr_ratings = sum(temp_ratings==1)    \n",
    "        if nbr_ratings < 20: \n",
    "            data = data[data.userId != user_id]\n",
    "            nbr_clear += 1\n",
    "    return data, nbr_clear\n",
    "\n",
    "def clear_movies(data):\n",
    "    all_movies_id = data.movieId.unique()\n",
    "    nbr_clear = 0\n",
    "    for movie_id in all_movies_id:\n",
    "        temp_ratings = data.loc[data.movieId==movie_id].rating.copy()\n",
    "        nbr_ratings = sum(temp_ratings==1)    \n",
    "        if nbr_ratings < 10:\n",
    "            data = data[data.movieId != movie_id]\n",
    "            nbr_clear += 1\n",
    "    return data, nbr_clear "
   ]
  },
  {
   "cell_type": "code",
   "execution_count": 16,
   "metadata": {},
   "outputs": [
    {
     "name": "stdout",
     "output_type": "stream",
     "text": [
      "movies clear :  8976\n",
      "users clear :  480\n",
      "movies clear :  48\n",
      "users clear :  0\n"
     ]
    }
   ],
   "source": [
    "nbr_clear = 1\n",
    "while nbr_clear > 0:\n",
    "    raw_data_ratings, nbr_clear = clear_movies(raw_data_ratings)\n",
    "    print('movies clear : ', nbr_clear)\n",
    "    raw_data_ratings, nbr_clear = clear_users(raw_data_ratings)\n",
    "    print('users clear : ', nbr_clear)"
   ]
  },
  {
   "cell_type": "code",
   "execution_count": 17,
   "metadata": {},
   "outputs": [
    {
     "data": {
      "text/plain": [
       "(0, 4)"
      ]
     },
     "execution_count": 17,
     "metadata": {},
     "output_type": "execute_result"
    }
   ],
   "source": [
    "raw_data_ratings.shape"
   ]
  },
  {
   "cell_type": "markdown",
   "metadata": {},
   "source": [
    "#### Print data cleared in .csv"
   ]
  },
  {
   "cell_type": "code",
   "execution_count": null,
   "metadata": {
    "collapsed": true
   },
   "outputs": [],
   "source": [
    "raw_data_ratings.to_csv('ratings_clear.csv')"
   ]
  },
  {
   "cell_type": "code",
   "execution_count": null,
   "metadata": {
    "collapsed": true
   },
   "outputs": [],
   "source": [
    "raw_data_ratings = None\n",
    "data_ratings = pd.read_csv('ratings_clear.csv', sep=',')"
   ]
  },
  {
   "cell_type": "markdown",
   "metadata": {},
   "source": [
    "#### Create the Z matrix of clusters"
   ]
  },
  {
   "cell_type": "code",
   "execution_count": null,
   "metadata": {
    "collapsed": true
   },
   "outputs": [],
   "source": [
    "def get_genre_index(genre):\n",
    "    if genre == 'Action':\n",
    "        return 0\n",
    "    elif genre == 'Adventure':\n",
    "        return 1\n",
    "    elif genre == 'Animation':\n",
    "        return 2\n",
    "    elif genre == \"Children's\":\n",
    "        return 3\n",
    "    elif genre == 'Comedy':\n",
    "        return 4\n",
    "    elif genre == 'Crime':\n",
    "        return 5\n",
    "    elif genre == 'Documentary':\n",
    "        return 6\n",
    "    elif genre == 'Drama':\n",
    "        return 7\n",
    "    elif genre == 'Fantasy':\n",
    "        return 8\n",
    "    elif genre == 'Film-Noir':\n",
    "        return 9\n",
    "    elif genre == 'Horror':\n",
    "        return 10\n",
    "    elif genre == 'Musical':\n",
    "        return 11\n",
    "    elif genre == 'Mystery':\n",
    "        return 12\n",
    "    elif genre == 'Romance':\n",
    "        return 13\n",
    "    elif genre == 'Sci-Fi':\n",
    "        return 14\n",
    "    elif genre == 'Thriller':\n",
    "        return 15\n",
    "    elif genre == 'War':\n",
    "        return 16\n",
    "    elif genre == 'Western':\n",
    "        return 17\n",
    "    else:\n",
    "        return 18\n",
    "    \n",
    "def get_list_index_genres(genres):\n",
    "    arr_genres_index = []\n",
    "    if len(genres)>0:\n",
    "        arr_genres = genres.values[0].split('|') \n",
    "        nbr_genres = len(arr_genres)\n",
    "        if nbr_genres>0:                               \n",
    "            for i in range(nbr_genres):\n",
    "                arr_genres_index.append(get_genre_index(arr_genres[i])) \n",
    "        else:\n",
    "            arr_genres_index.append(18)    \n",
    "    else:\n",
    "        arr_genres_index.append(18)    \n",
    "    return arr_genres_index\n",
    "\n",
    "def write_clusters_movie(data, movie_id, genres_movie):\n",
    "    for curt_genre in genres_movie:\n",
    "        data.loc[movie_id, curt_genre] = 1"
   ]
  },
  {
   "cell_type": "code",
   "execution_count": null,
   "metadata": {
    "collapsed": true
   },
   "outputs": [],
   "source": [
    "all_movies_id = data_ratings.movieId.unique()\n",
    "mat_clusters = pd.DataFrame(np.zeros(shape=(len(all_movies_id),19)), index=all_movies_id)\n",
    "\n",
    "for movie_id in all_movies_id:\n",
    "    genres = raw_data_movies.loc[raw_data_movies.movieId==movie_id, 'genres']\n",
    "    genres_index = get_list_index_genres(genres)\n",
    "    write_clusters_movie(mat_clusters, movie_id, genres_index)"
   ]
  },
  {
   "cell_type": "code",
   "execution_count": null,
   "metadata": {
    "collapsed": true
   },
   "outputs": [],
   "source": [
    "mat_clusters.head()"
   ]
  }
 ],
 "metadata": {
  "kernelspec": {
   "display_name": "Python 3",
   "language": "python",
   "name": "python3"
  },
  "language_info": {
   "codemirror_mode": {
    "name": "ipython",
    "version": 3
   },
   "file_extension": ".py",
   "mimetype": "text/x-python",
   "name": "python",
   "nbconvert_exporter": "python",
   "pygments_lexer": "ipython3",
   "version": "3.6.2"
  }
 },
 "nbformat": 4,
 "nbformat_minor": 2
}
