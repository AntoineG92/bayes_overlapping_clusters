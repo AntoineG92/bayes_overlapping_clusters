{
 "cells": [
  {
   "cell_type": "markdown",
   "metadata": {},
   "source": [
    "# Bayes - A Nonparametric Bayesian Approach to Modeling Overlapping Clusters"
   ]
  },
  {
   "cell_type": "code",
   "execution_count": 1,
   "metadata": {
    "collapsed": true
   },
   "outputs": [],
   "source": [
    "%matplotlib inline"
   ]
  },
  {
   "cell_type": "code",
   "execution_count": 2,
   "metadata": {
    "collapsed": true
   },
   "outputs": [],
   "source": [
    "from matplotlib.pyplot import figure, show\n",
    "import pandas as pd\n",
    "import numpy as np\n",
    "from scipy.stats import multivariate_normal, bernoulli, beta\n",
    "import random"
   ]
  },
  {
   "cell_type": "markdown",
   "metadata": {},
   "source": [
    "#### Get movies data from MovieLens\n",
    "\n",
    "The clusters matrix is Z\n",
    "The binary matrix is X"
   ]
  },
  {
   "cell_type": "code",
   "execution_count": 3,
   "metadata": {
    "collapsed": false
   },
   "outputs": [],
   "source": [
    "Z = pd.read_csv('clusters_matrix.csv', sep=',', index_col=0)\n",
    "X = pd.read_csv('binary_data_matrix.csv', sep=',', index_col=0)\n",
    "#X.columns = X.columns.astype(int)\n",
    "#Z.columns = Z.columns.astype(int)\n",
    "X = X.as_matrix()\n",
    "Z = Z.as_matrix()"
   ]
  },
  {
   "cell_type": "code",
   "execution_count": 4,
   "metadata": {
    "collapsed": true
   },
   "outputs": [],
   "source": [
    "def clear_users(data):    \n",
    "    nbr_clear = 0\n",
    "    list_col = []\n",
    "    for i in range(data.shape[1]):\n",
    "        temp_ratings = data[:,i]\n",
    "        nbr_ratings = sum(temp_ratings)    \n",
    "        if nbr_ratings > 20: \n",
    "            list_col.append(i)\n",
    "            #data = np.delete(data, i, 1)\n",
    "        else:\n",
    "            nbr_clear += 1\n",
    "    if len(list_col)>0:\n",
    "        data_cleaned = data[:,list_col]\n",
    "    else:\n",
    "        data_cleaned = data\n",
    "    return data_cleaned, nbr_clear\n",
    "\n",
    "def clear_movies(data):\n",
    "    nbr_clear = 0\n",
    "    list_row = []\n",
    "    for i in range(data.shape[0]):\n",
    "        temp_ratings = data[i,:]\n",
    "        nbr_ratings = sum(temp_ratings)    \n",
    "        if nbr_ratings > 10: \n",
    "            list_row.append(i)\n",
    "            #data = np.delete(data, i, 0)\n",
    "        else:\n",
    "            nbr_clear += 1\n",
    "    if len(list_row)>0:\n",
    "        data_cleaned = data[list_row,:]\n",
    "    else:\n",
    "        data_cleaned = data\n",
    "    return data_cleaned, nbr_clear"
   ]
  },
  {
   "cell_type": "code",
   "execution_count": 5,
   "metadata": {
    "collapsed": true
   },
   "outputs": [],
   "source": [
    "nbr_clear = 1\n",
    "X = X[0:650]\n",
    "\n",
    "while nbr_clear > 0:\n",
    "    X, nbr_clear = clear_movies(X)\n",
    "    X, nbr_clear = clear_users(X)\n",
    "\n",
    "X = X[0:500] \n",
    "Z = Z[0:500]"
   ]
  },
  {
   "cell_type": "code",
   "execution_count": 6,
   "metadata": {
    "collapsed": false
   },
   "outputs": [
    {
     "data": {
      "text/plain": [
       "(500, 746)"
      ]
     },
     "execution_count": 6,
     "metadata": {},
     "output_type": "execute_result"
    }
   ],
   "source": [
    "X.shape"
   ]
  },
  {
   "cell_type": "code",
   "execution_count": 7,
   "metadata": {
    "collapsed": false
   },
   "outputs": [
    {
     "data": {
      "text/plain": [
       "(500, 18)"
      ]
     },
     "execution_count": 7,
     "metadata": {},
     "output_type": "execute_result"
    }
   ],
   "source": [
    "Z.shape"
   ]
  },
  {
   "cell_type": "code",
   "execution_count": 8,
   "metadata": {
    "collapsed": true
   },
   "outputs": [],
   "source": [
    "def get_mat_random(mat_x, list_rows):\n",
    "    mat_y = np.zeros((mat_x.shape[0], mat_x.shape[1]))\n",
    "    for i in range(mat_x.shape[0]):\n",
    "        mat_y[i,:] = mat_x[list_rows[i],:]\n",
    "    return mat_y"
   ]
  },
  {
   "cell_type": "code",
   "execution_count": 9,
   "metadata": {
    "collapsed": true
   },
   "outputs": [],
   "source": [
    "# Need to randomize the matrix in order to have efficient train et test datasets\n",
    "list_random_rows = random.sample(range(500), 500)\n",
    "X = get_mat_random(X, list_random_rows)\n",
    "Z = get_mat_random(Z, list_random_rows)"
   ]
  },
  {
   "cell_type": "markdown",
   "metadata": {},
   "source": [
    "#### Initialization of all parameters\n",
    "\n",
    "Our data are a binary matrix : we can use a multivariate Bernouilli simulation"
   ]
  },
  {
   "cell_type": "code",
   "execution_count": 10,
   "metadata": {
    "collapsed": true
   },
   "outputs": [],
   "source": [
    "def m_without_i_k(Z, i, k):\n",
    "    return (sum(Z[:,k])-Z[i,k])\n",
    "\n",
    "def likelihood_bern(X,Z,theta,i, c):  #not normalized\n",
    "    lh=1\n",
    "    for d in range(D):\n",
    "        num=1\n",
    "        denom=1\n",
    "        for k in range(K):\n",
    "            num = num * theta[k,d]**Z[i,k]\n",
    "            denom = denom * (1-theta[k,d])**Z[i,k]\n",
    "        theta_tilde_d = num/(denom+num)\n",
    "        lh = lh * bernoulli.pmf(X[i,d],theta_tilde_d)    \n",
    "    return lh"
   ]
  },
  {
   "cell_type": "code",
   "execution_count": 19,
   "metadata": {
    "collapsed": false
   },
   "outputs": [],
   "source": [
    "NumIters = 1\n",
    "N = X.shape[0]\n",
    "K = Z.shape[1]\n",
    "D = X.shape[1]\n",
    "\n",
    "Z_hat = np.zeros((N,K))  #Matrix of clusters [observations]*[# clusters - takes 1 if belongs to cluster]\n",
    "PZ_hat = np.zeros((N,K)) #Matrix of cluster probabilities\n",
    "theta = np.empty([K,D])\n",
    "np.random.seed(1234)\n",
    "\n",
    "alpha = round(sum(Z.T).mean()) #alphe controles the expected number of clusters a datapoint will belong to\n",
    "c = sum(likelihood_bern(X, Z, theta, [i for i in range(N)], 1) )\n",
    "\n",
    "for i in range(K):\n",
    "    for j in range(D):\n",
    "        u=np.random.beta(alpha/K, 1)\n",
    "        theta[i,j]=u\n",
    "\n",
    "#On prend les n premieres observations et on leur donne les bons clusters associés pour entrainer le modele\n",
    "n=200\n",
    "Z_hat[0:n-1,]=Z[0:n-1,]"
   ]
  },
  {
   "cell_type": "code",
   "execution_count": 20,
   "metadata": {
    "collapsed": true
   },
   "outputs": [],
   "source": [
    "def transition(theta, theta_known, omega):\n",
    "    return beta.pdf(theta, omega*theta_known, omega*(1-theta_known))\n",
    "\n",
    "def proba_xd(Z,X_d,d,k,K,theta,theta_kd=None):\n",
    "    proba_xd = 1\n",
    "    new_theta = theta\n",
    "    if theta_kd:\n",
    "        new_theta[k,d]=theta_kd\n",
    "    for i in range(X_d.shape[0]):\n",
    "        num=1\n",
    "        denom=1\n",
    "        for k in range(K):\n",
    "            num = num * new_theta[k,d]**Z[i,k]\n",
    "            denom = denom * (1-new_theta[k,d])**Z[i,k]\n",
    "        theta_tilde_d = num/(denom+num)\n",
    "        proba_xd= proba_xd * bernoulli.pmf(X[i,d],theta_tilde_d) \n",
    "    return proba_xd"
   ]
  },
  {
   "cell_type": "code",
   "execution_count": 21,
   "metadata": {
    "collapsed": false
   },
   "outputs": [
    {
     "data": {
      "text/plain": [
       "array([ 0.,  0.,  0.,  0.,  1.,  0.,  0.,  0.,  0.,  0.,  0.,  0.,  0.,\n",
       "        0.,  0.,  0.,  0.,  0.])"
      ]
     },
     "execution_count": 21,
     "metadata": {},
     "output_type": "execute_result"
    }
   ],
   "source": [
    "Z[1,]"
   ]
  },
  {
   "cell_type": "code",
   "execution_count": 23,
   "metadata": {
    "collapsed": false
   },
   "outputs": [
    {
     "name": "stdout",
     "output_type": "stream",
     "text": [
      "j : 0/4\n",
      "Resampling\n",
      "theta_kd = 5.57249149224e-07 theta_prop = 0.0\n",
      "transition_num = inf\n",
      "transition_denom = nan\n",
      "p_theta_num = inf\n",
      "p_theta_denom = 40255.4492784\n",
      "p_xd_num = 1.18908606053e-267\n",
      "p_xd_denom = 1.18908606053e-267\n",
      "accept_ratio = 1\n",
      "Accepted!\n",
      "k = 0 d = 0 theta_kd = 0.0 theta_prop = 0.0 ; transition_num = inf ; transition_denom = nan ; p_theta_num = inf ; p_theta_denom = 40255.4492784 ; p_xd_num = 1.18908606053e-267 ; p_xd_denom = 1.18908606053e-267 ; accept_ratio = 1 ; u = 0.22078438443284065\n",
      "Wall time: 3h 18min 45s\n"
     ]
    }
   ],
   "source": [
    "%%time\n",
    "iterations = 5\n",
    "for j in range(iterations):\n",
    "    print(\"j : \" + str(j) + \"/\" + str(iterations-1))\n",
    "    for i in range(n,N,1):\n",
    "        #print(str(i) + \"/\" + str(N-1))\n",
    "        k_plus = [] #k+ is the number of clusters which data points, excluding i, belong to\n",
    "        for k_ in range(K):\n",
    "            if Z_hat[i,k_] == 0:\n",
    "                k_plus.append(k_)  #for each obs, if proba to belong to cluster k_ is null, add it to k_plus\n",
    "                                   #for data not in the training set, k_plus will take all possible values in 0...K\n",
    "\n",
    "        for k in k_plus:\n",
    "            if Z_hat[i,k] == 0: #exclude data in the training set for which we already have the true categories\n",
    "                #z_ik ⇠ zik|z−i,k, xi,theta\n",
    "                Z_hat[i,k] = 1 #Set Z_hat to one (proposal)\n",
    "                #compute bernouilli likelihood (not normalized)\n",
    "                lh_bern=likelihood_bern(X,Z_hat,theta,i,c)\n",
    "                #compute matrix of probas of Z\n",
    "                PZ_hat[i,k] = (m_without_i_k(Z_hat, i, k)/N)*lh_bern\n",
    "                \n",
    "                Z_hat[i,k] = 0  #reset Z_hat to zero\n",
    "                u = np.random.beta(alpha/K, 1)  #PZ_hat is not normalized to [0,1]\n",
    "                \n",
    "                #print('Pz=', PZ_hat[i,k], 'u =', u, 'i=',i, 'k=',k)\n",
    "                \n",
    "                #Propose adding new clusters \n",
    "                #Accept or reject proposal\n",
    "                if u<PZ_hat[i,k]:\n",
    "                    Z_hat[i,k]=1 \n",
    "                    print('Pz=', PZ_hat[i,k], 'u =', u, 'i=',i, 'k=',k)\n",
    "        \n",
    "    #Resample theta|Z,X using MH proposal\n",
    "    print(\"Resampling\")\n",
    "    prob_A=0\n",
    "    omega=0.5\n",
    "    for k in range(K):\n",
    "        #print(\"k :\" + str(k) + \"/\" + str(K-1))\n",
    "        for d in range(D):\n",
    "            #print(\"d :\" + str(d) + \"/\" + str(D-1))\n",
    "            \n",
    "            #generate proposal theta based on Beta(omega*theta,omega*(1-theta))\n",
    "            theta_prop=beta.rvs(omega*theta[k,d],omega*(1-theta[k,d]))\n",
    "            print('theta_kd =', theta[k,d], \n",
    "                'theta_prop =', theta_prop)\n",
    "            #T(theta_kd|theta'_kd,omega)\n",
    "            transition_num = transition(theta_prop, theta[k,d], omega)\n",
    "            print('transition_num =', transition_num)\n",
    "            #T(theta'_kd|theta_kd,omega)\n",
    "            transition_denom = transition(theta[k,d], theta_prop, omega)\n",
    "            print('transition_denom =', transition_denom)\n",
    "            \n",
    "            #p(theta'_d)\n",
    "            p_theta_num = beta.pdf(theta_prop, alpha/K, 1)#ici j'utilise theta'_kd et non theta'_d > TODO : voir comment calculer Theta'd\n",
    "            print('p_theta_num =',p_theta_num)\n",
    "            #p(theta_d)\n",
    "            p_theta_denom = beta.pdf(theta[k,d], alpha/K, 1)\n",
    "            print('p_theta_denom =', p_theta_denom)\n",
    "            \n",
    "            #p(x_d|theta'_kd,Z)\n",
    "            p_xd_num = proba_xd(Z,X[:,d],d,k,K,theta,theta_prop)\n",
    "            print('p_xd_num =', p_xd_num)\n",
    "            #p(x_d|theta_kd,Z)\n",
    "            p_xd_denom = proba_xd(Z,X[:,d],d,k,K,theta,None)\n",
    "            print('p_xd_denom =', p_xd_denom)\n",
    "            \n",
    "            #acceptance ratio\n",
    "            accept_ratio = min(1,(p_xd_num*p_theta_num*transition_num)/(p_xd_denom*p_theta_denom*transition_denom))\n",
    "            print('accept_ratio =', accept_ratio)\n",
    "            \n",
    "            #Resampling\n",
    "            u = np.random.uniform(0,1)\n",
    "            if u < accept_ratio :\n",
    "                theta[k,d] = theta_prop\n",
    "                print('Accepted!')\n",
    "                \n",
    "            \n",
    "            #print('k =', k,\n",
    "            #    'd =', d, \n",
    "            #    'theta_kd =', theta[k,d], \n",
    "            #    'theta_prop =', theta_prop, \n",
    "            #    '; transition_num =', transition_num, \n",
    "            #    '; transition_denom =', transition_denom, \n",
    "            #    '; p_theta_num =',p_theta_num, \n",
    "            #     '; p_theta_denom =', p_theta_denom, \n",
    "            #     '; p_xd_num =', p_xd_num, \n",
    "            #     '; p_xd_denom =', p_xd_denom, \n",
    "            #     '; accept_ratio =', accept_ratio, \n",
    "            #     '; u =', u)\n",
    "\n",
    "    "
   ]
  },
  {
   "cell_type": "code",
   "execution_count": null,
   "metadata": {
    "collapsed": true
   },
   "outputs": [],
   "source": [
    "U = np.dot(Z,Z.T)\n",
    "#print(U)\n",
    "U_hat = np.dot(Z_hat,Z_hat.T)\n",
    "#print(U_hat)"
   ]
  },
  {
   "cell_type": "code",
   "execution_count": null,
   "metadata": {
    "collapsed": true
   },
   "outputs": [],
   "source": [
    "#U.shape"
   ]
  },
  {
   "cell_type": "markdown",
   "metadata": {},
   "source": [
    "### 4. $U$ and $\\hat{U}$ comparison"
   ]
  },
  {
   "cell_type": "code",
   "execution_count": null,
   "metadata": {
    "collapsed": true
   },
   "outputs": [],
   "source": [
    "fig = figure(figsize=(18, 16), dpi= 80, facecolor='w', edgecolor='k')\n",
    "ax1 = fig.add_subplot(121)\n",
    "ax2 = fig.add_subplot(122)\n",
    "ax1.title.set_text('U')\n",
    "ax2.title.set_text('$\\hat{U}$')\n",
    "\n",
    "ax1.spy(U)\n",
    "ax2.spy(U_hat)\n",
    "\n",
    "show()"
   ]
  }
 ],
 "metadata": {
  "anaconda-cloud": {},
  "kernelspec": {
   "display_name": "Python [Root]",
   "language": "python",
   "name": "Python [Root]"
  },
  "language_info": {
   "codemirror_mode": {
    "name": "ipython",
    "version": 3
   },
   "file_extension": ".py",
   "mimetype": "text/x-python",
   "name": "python",
   "nbconvert_exporter": "python",
   "pygments_lexer": "ipython3",
   "version": "3.5.2"
  }
 },
 "nbformat": 4,
 "nbformat_minor": 2
}
