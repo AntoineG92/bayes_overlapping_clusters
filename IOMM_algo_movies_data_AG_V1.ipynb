{
 "cells": [
  {
   "cell_type": "code",
   "execution_count": 1,
   "metadata": {},
   "outputs": [],
   "source": [
    "%load_ext autoreload\n",
    "%autoreload 2\n",
    "import utils, iomm_infinite, iomm\n",
    "import random\n",
    "import pandas as pd\n",
    "import numpy as np"
   ]
  },
  {
   "cell_type": "code",
   "execution_count": 2,
   "metadata": {},
   "outputs": [],
   "source": [
    "Z = pd.read_csv('clusters_matrix.csv', sep=',', index_col=0)\n",
    "X = pd.read_csv('binary_data_matrix.csv', sep=',', index_col=0)\n",
    "#X.columns = X.columns.astype(int)\n",
    "#Z.columns = Z.columns.astype(int)\n",
    "X = X.as_matrix()\n",
    "Z = Z.as_matrix()\n",
    "\n",
    "nbr_clear = 1\n",
    "X = X[0:650]\n",
    "\n",
    "while nbr_clear > 0:\n",
    "    X, nbr_clear = utils.clear_movies(X)\n",
    "    X, nbr_clear = utils.clear_users(X)\n",
    "\n",
    "X = X[0:500] \n",
    "Z = Z[0:500]\n",
    "\n",
    "\n",
    "list_random_rows = random.sample(range(500), 500)\n",
    "X = utils.get_mat_random(X, list_random_rows)\n",
    "Z = utils.get_mat_random(Z, list_random_rows)"
   ]
  },
  {
   "cell_type": "code",
   "execution_count": 3,
   "metadata": {},
   "outputs": [],
   "source": [
    "#Generate synthetic data\n",
    "K=Z.shape[1]\n",
    "N=Z.shape[0]\n",
    "n_train=200\n",
    "D=X.shape[1]\n",
    "N_iter=300\n",
    "alpha_prior = 10\n",
    "burning_period=100\n",
    "omega = 1\n",
    "\n",
    "theta= utils.random_theta(N,K,D,alpha_prior)"
   ]
  },
  {
   "cell_type": "code",
   "execution_count": null,
   "metadata": {},
   "outputs": [],
   "source": [
    "%%capture\n",
    "IOMM = iomm.IOMM(N = N, \n",
    "                 K = K, \n",
    "                 D = D, \n",
    "                 N_iter = N_iter, \n",
    "                 Z = Z, \n",
    "                 X = X, \n",
    "                 theta = theta, \n",
    "                 alpha_prior = alpha_prior, \n",
    "                 omega = omega,\n",
    "                 copy_rows = n_train,\n",
    "                 burning_period=burning_period)"
   ]
  },
  {
   "cell_type": "code",
   "execution_count": null,
   "metadata": {},
   "outputs": [],
   "source": [
    "%%capture\n",
    "Z_hat,theta_resampled,Z_hat_mean,U_hat = IOMM.learning(apply_log=False,random_walk=False)"
   ]
  },
  {
   "cell_type": "code",
   "execution_count": null,
   "metadata": {},
   "outputs": [],
   "source": [
    "U=np.dot(Z,Z.T)\n",
    "from matplotlib import pyplot as plt\n",
    "fig = plt.figure(figsize=(18, 16), dpi= 80, facecolor='w', edgecolor='k')\n",
    "ax1 = fig.add_subplot(121)\n",
    "ax2 = fig.add_subplot(122)\n",
    "ax1.title.set_text('U')\n",
    "ax2.title.set_text('$\\hat{U}$')\n",
    "\n",
    "ax1.spy(U)\n",
    "ax2.spy(U_hat)\n",
    "\n",
    "plt.show()"
   ]
  },
  {
   "cell_type": "code",
   "execution_count": null,
   "metadata": {
    "collapsed": true
   },
   "outputs": [],
   "source": []
  }
 ],
 "metadata": {
  "kernelspec": {
   "display_name": "Python 3",
   "language": "python",
   "name": "python3"
  },
  "language_info": {
   "codemirror_mode": {
    "name": "ipython",
    "version": 3
   },
   "file_extension": ".py",
   "mimetype": "text/x-python",
   "name": "python",
   "nbconvert_exporter": "python",
   "pygments_lexer": "ipython3",
   "version": "3.6.2"
  }
 },
 "nbformat": 4,
 "nbformat_minor": 2
}
